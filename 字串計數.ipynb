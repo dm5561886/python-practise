{
  "nbformat": 4,
  "nbformat_minor": 0,
  "metadata": {
    "colab": {
      "provenance": [],
      "authorship_tag": "ABX9TyNPDbagIBjjzRmk3oRC5BNP",
      "include_colab_link": true
    },
    "kernelspec": {
      "name": "python3",
      "display_name": "Python 3"
    },
    "language_info": {
      "name": "python"
    }
  },
  "cells": [
    {
      "cell_type": "markdown",
      "metadata": {
        "id": "view-in-github",
        "colab_type": "text"
      },
      "source": [
        "<a href=\"https://colab.research.google.com/github/dm5561886/python-practise/blob/main/%E5%AD%97%E4%B8%B2%E8%A8%88%E6%95%B8.ipynb\" target=\"_parent\"><img src=\"https://colab.research.google.com/assets/colab-badge.svg\" alt=\"Open In Colab\"/></a>"
      ]
    },
    {
      "cell_type": "code",
      "execution_count": null,
      "metadata": {
        "id": "_u_e0xDHjN8z"
      },
      "outputs": [],
      "source": [
        "x = input(\"請輸入文字:\") # Hello World\n",
        "f={}\n",
        "for i in x:\n",
        "    if i in f:\n",
        "        f[i]+=1\n",
        "    else:\n",
        "        f[i]=1\n",
        "print(f) # {‘H’: 1, ‘e’: 1, ‘l’: 3, ‘o’: 2, ‘ ’:1, ‘W’: 1, ‘r’: 1, ‘d’: 1}"
      ]
    }
  ]
}