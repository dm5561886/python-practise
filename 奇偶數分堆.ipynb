{
  "nbformat": 4,
  "nbformat_minor": 0,
  "metadata": {
    "colab": {
      "provenance": [],
      "authorship_tag": "ABX9TyMGgO4o53F4S06iLE4R8J1O",
      "include_colab_link": true
    },
    "kernelspec": {
      "name": "python3",
      "display_name": "Python 3"
    },
    "language_info": {
      "name": "python"
    }
  },
  "cells": [
    {
      "cell_type": "markdown",
      "metadata": {
        "id": "view-in-github",
        "colab_type": "text"
      },
      "source": [
        "<a href=\"https://colab.research.google.com/github/dm5561886/python-practise/blob/main/%E5%A5%87%E5%81%B6%E6%95%B8%E5%88%86%E5%A0%86.ipynb\" target=\"_parent\"><img src=\"https://colab.research.google.com/assets/colab-badge.svg\" alt=\"Open In Colab\"/></a>"
      ]
    },
    {
      "cell_type": "code",
      "execution_count": 1,
      "metadata": {
        "colab": {
          "base_uri": "https://localhost:8080/"
        },
        "id": "2r3ivIsFv-o7",
        "outputId": "89866070-096f-48b0-fde1-5733620a3772"
      },
      "outputs": [
        {
          "output_type": "stream",
          "name": "stdout",
          "text": [
            "[1, 3, 5, 7, 9, 0, 2, 4, 6, 8]\n"
          ]
        }
      ],
      "source": [
        "L = [0, 1, 2, 3, 4, 5, 6, 7, 8, 9]\n",
        "a=[]\n",
        "b=[]\n",
        "for i in L:\n",
        "  if i % 2 == 0:\n",
        "      b.append(i)\n",
        "  else:\n",
        "      a.append(i)\n",
        "L=a+b\n",
        "print(L) # [1, 3, 5, 7, 9, 0, 2, 4, 6, 8]"
      ]
    }
  ]
}