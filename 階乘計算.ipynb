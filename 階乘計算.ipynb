{
  "nbformat": 4,
  "nbformat_minor": 0,
  "metadata": {
    "colab": {
      "provenance": [],
      "authorship_tag": "ABX9TyMbDDv8p/A3KDF3/fsEmMHM",
      "include_colab_link": true
    },
    "kernelspec": {
      "name": "python3",
      "display_name": "Python 3"
    },
    "language_info": {
      "name": "python"
    }
  },
  "cells": [
    {
      "cell_type": "markdown",
      "metadata": {
        "id": "view-in-github",
        "colab_type": "text"
      },
      "source": [
        "<a href=\"https://colab.research.google.com/github/dm5561886/python-practise/blob/main/%E9%9A%8E%E4%B9%98%E8%A8%88%E7%AE%97.ipynb\" target=\"_parent\"><img src=\"https://colab.research.google.com/assets/colab-badge.svg\" alt=\"Open In Colab\"/></a>"
      ]
    },
    {
      "cell_type": "code",
      "execution_count": 1,
      "metadata": {
        "colab": {
          "base_uri": "https://localhost:8080/"
        },
        "id": "C9ENtemkyjMJ",
        "outputId": "e69a0800-6c4f-45c6-d6cd-50c6535862cf"
      },
      "outputs": [
        {
          "output_type": "stream",
          "name": "stdout",
          "text": [
            "請輸入一個整數:4\n",
            "33\n"
          ]
        }
      ],
      "source": [
        "x = int(input(\"請輸入一個整數:\")) # 4\n",
        "e=1\n",
        "f=0\n",
        "for i in range(1,x+1):\n",
        "    e*=i\n",
        "    f+=e\n",
        "print(f) # 33"
      ]
    }
  ]
}