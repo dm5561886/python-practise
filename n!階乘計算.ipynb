{
  "nbformat": 4,
  "nbformat_minor": 0,
  "metadata": {
    "colab": {
      "provenance": [],
      "authorship_tag": "ABX9TyOky+PSqJ+2oSUYhbhg/9YI",
      "include_colab_link": true
    },
    "kernelspec": {
      "name": "python3",
      "display_name": "Python 3"
    },
    "language_info": {
      "name": "python"
    }
  },
  "cells": [
    {
      "cell_type": "markdown",
      "metadata": {
        "id": "view-in-github",
        "colab_type": "text"
      },
      "source": [
        "<a href=\"https://colab.research.google.com/github/dm5561886/python-practise/blob/main/n!%E9%9A%8E%E4%B9%98%E8%A8%88%E7%AE%97.ipynb\" target=\"_parent\"><img src=\"https://colab.research.google.com/assets/colab-badge.svg\" alt=\"Open In Colab\"/></a>"
      ]
    },
    {
      "cell_type": "code",
      "execution_count": 1,
      "metadata": {
        "colab": {
          "base_uri": "https://localhost:8080/"
        },
        "id": "fE8wr_OizJKI",
        "outputId": "430892b6-23fc-45c3-f17e-5d00c8cc2841"
      },
      "outputs": [
        {
          "output_type": "stream",
          "name": "stdout",
          "text": [
            "請輸入整數:4\n",
            "24\n"
          ]
        }
      ],
      "source": [
        "#題目說明:\n",
        "#1. 讓使用者可以自行輸入一個數字 n，請檢查 n 是否為合法數字否則回傳錯誤巡席\n",
        "#2. 利用程式計算 n! 的結果並且印在畫面上\n",
        "x = input(\"請輸入整數:\")# 4\n",
        "f=1\n",
        "if x.isdigit():\n",
        "    x=int(x)\n",
        "    for i in range(1, int(x) + 1):\n",
        "        f*=i\n",
        "    print(f) # 24\n",
        "else:\n",
        "    print(x+\"是一個不合法的輸入，無法運算\")"
      ]
    }
  ]
}