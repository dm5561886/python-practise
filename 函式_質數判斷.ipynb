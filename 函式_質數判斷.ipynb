{
  "cells": [
    {
      "cell_type": "markdown",
      "metadata": {
        "colab_type": "text",
        "id": "view-in-github"
      },
      "source": [
        "<a href=\"https://colab.research.google.com/github/dm5561886/python-practise/blob/main/%E5%87%BD%E5%BC%8F_%E8%B3%AA%E6%95%B8%E5%88%A4%E6%96%B7.ipynb\" target=\"_parent\"><img src=\"https://colab.research.google.com/assets/colab-badge.svg\" alt=\"Open In Colab\"/></a>"
      ]
    },
    {
      "cell_type": "code",
      "execution_count": 2,
      "metadata": {
        "colab": {
          "base_uri": "https://localhost:8080/"
        },
        "id": "coPzqApw0pGn",
        "outputId": "cc95da07-0d8e-44f7-c32b-5bced0331340"
      },
      "outputs": [
        {
          "name": "stdout",
          "output_type": "stream",
          "text": [
            "請輸入一個整數:20\n",
            "False\n",
            "2,3,5,7,11,13,17,19\n"
          ]
        }
      ],
      "source": [
        "def isPrime(n):\n",
        "  for i in range(2,n):\n",
        "      if (n % i == 0):\n",
        "       return  False\n",
        "  return True\n",
        "\n",
        "def primes(n):\n",
        "  f=[]\n",
        "  for j in range(2, n):\n",
        "    is_prime=isPrime(j)\n",
        "    if is_prime:\n",
        "       f.append(j)\n",
        "  return f\n",
        "\n",
        "n= int(input('請輸入一個整數:')) # 20\n",
        "print(isPrime(n))\n",
        "y=primes(n)\n",
        "z=','.join(map(str,y))#map()將 result 中的每個元素都轉換成字串形式，str函式被用來將每個元素轉換成字串\n",
        "print(z)\n",
        " # 2, 3, 5, 7, 11, 13, 17, 19"
      ]
    }
  ],
  "metadata": {
    "colab": {
      "authorship_tag": "ABX9TyMuBCHGehod+pjK6/jzRAEi",
      "include_colab_link": true,
      "provenance": []
    },
    "kernelspec": {
      "display_name": "Python 3",
      "name": "python3"
    },
    "language_info": {
      "name": "python"
    }
  },
  "nbformat": 4,
  "nbformat_minor": 0
}
